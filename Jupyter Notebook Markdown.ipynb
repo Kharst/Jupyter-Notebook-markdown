{
 "cells": [
  {
   "cell_type": "markdown",
   "id": "00ca73d5",
   "metadata": {},
   "source": [
    "# My Jupyter Notebook on IBM Watson Studio"
   ]
  },
  {
   "cell_type": "markdown",
   "id": "d60d3862",
   "metadata": {},
   "source": [
    "## Reuben Siwela\n",
    "Data Analyst"
   ]
  },
  {
   "cell_type": "markdown",
   "id": "553e84e2",
   "metadata": {},
   "source": [
    "_I am interested in data science because it solves the current problems faced by businesses. It also presents apportunity to make a good income._"
   ]
  },
  {
   "cell_type": "markdown",
   "id": "52d865cb",
   "metadata": {},
   "source": [
    "### The code is showing my real age by giving milestone or clues as to how close or far from the real age. "
   ]
  },
  {
   "cell_type": "code",
   "execution_count": 9,
   "id": "629b2913",
   "metadata": {},
   "outputs": [
    {
     "name": "stdout",
     "output_type": "stream",
     "text": [
      "Way older\n",
      "almost there\n",
      "Reuben's age!\n"
     ]
    }
   ],
   "source": [
    "Age= 25\n",
    "\n",
    "if Age > 10:\n",
    "    print(\"Way older\")\n",
    "    if Age > 20:\n",
    "        print(\"almost there\")\n",
    "        if Age ==25:\n",
    "            print(\"Reuben's age!\")\n",
    "    else:\n",
    "        print(\"odd\")"
   ]
  },
  {
   "attachments": {},
   "cell_type": "markdown",
   "id": "e28f4f4d",
   "metadata": {},
   "source": [
    "  <!DOCTYPE html>\n",
    "<html>\n",
    "<body>\n",
    "    <h1> <u>My Holiday Destinations</u></h1>\n",
    "    <img src=https://cdn.pixabay.com/photo/2019/07/14/10/48/vineyards-4336787_960_720.jpg style=\"height:300px; width 400px;\">\n",
    "    \n",
    "  <p>\n",
    "    <ol>\n",
    "        <h2>Holiday destinations in my calender: </h2>\n",
    "    <li> Switzerland </li>\n",
    "    <li> Thailand </li>\n",
    "    <li> Italy </li>\n",
    "    <p>I prefer preparing ahead of time, so I have already booked a bnb in one of the destionations. See the home below.\n",
    "    \n",
    "    \n",
    "   [vacation home](https://pixabay.com/photos/holiday-home-summer-house-house-177401/ \"this is the vacation home\") \n",
    "    \n",
    "         "
   ]
  },
  {
   "cell_type": "markdown",
   "id": "b2af05f0",
   "metadata": {},
   "source": []
  },
  {
   "cell_type": "markdown",
   "id": "3813cb52",
   "metadata": {},
   "source": []
  },
  {
   "cell_type": "markdown",
   "id": "c16b9b0a",
   "metadata": {},
   "source": []
  },
  {
   "cell_type": "code",
   "execution_count": null,
   "id": "9499946d",
   "metadata": {},
   "outputs": [],
   "source": []
  }
 ],
 "metadata": {
  "kernelspec": {
   "display_name": "Python 3",
   "language": "python",
   "name": "python3"
  },
  "language_info": {
   "codemirror_mode": {
    "name": "ipython",
    "version": 3
   },
   "file_extension": ".py",
   "mimetype": "text/x-python",
   "name": "python",
   "nbconvert_exporter": "python",
   "pygments_lexer": "ipython3",
   "version": "3.8.8"
  }
 },
 "nbformat": 4,
 "nbformat_minor": 5
}
